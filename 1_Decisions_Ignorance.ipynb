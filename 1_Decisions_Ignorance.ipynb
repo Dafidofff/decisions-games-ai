{
 "cells": [
  {
   "cell_type": "markdown",
   "metadata": {
    "slideshow": {
     "slide_type": "slide"
    }
   },
   "source": [
    "Decisions Under Ignorance\n",
    "======================\n",
    "\n",
    "Shane Steinert-Threlkeld\n",
    "\n",
    "S.N.M.Steinert-Threlkeld AT uva DOT nl"
   ]
  },
  {
   "cell_type": "markdown",
   "metadata": {
    "slideshow": {
     "slide_type": "slide"
    }
   },
   "source": [
    "A Motivating Example\n",
    "------\n",
    "\n",
    "I ride my bike to work in Amsterdam every day.  This morning, it looked rather gray, but was not raining.  Should I wear my waterproof pants and jacket or leave them at home?  If it does rain, I will stay dry, which is very nice.  If it doesn't rain, I will be too warm and will have to carry extra clothes around; not so nice.\n",
    "\n",
    "Weighing these pros and cons, I decide to put on the waterproof clothes, just to be safe."
   ]
  },
  {
   "cell_type": "markdown",
   "metadata": {
    "slideshow": {
     "slide_type": "subslide"
    }
   },
   "source": [
    "Some questions:\n",
    "* How did I go about making that decision?\n",
    "* Was it a _good_ decision?  Given my desires and values.\n",
    "    - What are my desires and values?\n",
    "    - Can they be measured?\n",
    "    \n",
    "Our primary focus will be on the second question: thus we will focus on _normative decision theory_ or _rational choice theory_.  Next time, I will say a bit about descriptive decision theory."
   ]
  },
  {
   "cell_type": "markdown",
   "metadata": {
    "slideshow": {
     "slide_type": "slide"
    }
   },
   "source": [
    "Basic Ingredients\n",
    "-----------\n",
    "\n",
    "* States: different possible ways the world could be, for all the decision-maker knows\n",
    "    - it will rain, it won't rain"
   ]
  },
  {
   "cell_type": "markdown",
   "metadata": {
    "slideshow": {
     "slide_type": "fragment"
    }
   },
   "source": [
    "* Acts: different options that the decision-maker can choose to do\n",
    "    - take waterproof clothes, leave them at home"
   ]
  },
  {
   "cell_type": "markdown",
   "metadata": {
    "slideshow": {
     "slide_type": "fragment"
    }
   },
   "source": [
    "* Outcomes: results of the choice of the decision-maker\n",
    "    - dry and heavy packing, wet and light packing, dry and light packing\n",
    "    \n",
    "N.B.: outcomes are the _bearers of value_ for the agent.  They are determined by a state-act pair, so we will often identify them with such a pair."
   ]
  },
  {
   "cell_type": "code",
   "execution_count": 1,
   "metadata": {
    "slideshow": {
     "slide_type": "skip"
    }
   },
   "outputs": [
    {
     "data": {
      "text/html": [
       "<style type=\"text/css\">\n",
       ".rendered_html tbody tr td:first-child {\n",
       "    border-right: 1px solid black;\n",
       "}\n",
       "    \n",
       ".rendered_html table {\n",
       "    font-size: 28px;\n",
       "}\n",
       "</style>\n"
      ],
      "text/plain": [
       "<IPython.core.display.HTML object>"
      ]
     },
     "metadata": {},
     "output_type": "display_data"
    }
   ],
   "source": [
    "%%HTML\n",
    "<style type=\"text/css\">\n",
    ".rendered_html tbody tr td:first-child {\n",
    "    border-right: 1px solid black;\n",
    "}\n",
    "    \n",
    ".rendered_html table {\n",
    "    font-size: 28px;\n",
    "}\n",
    "</style>"
   ]
  },
  {
   "cell_type": "markdown",
   "metadata": {
    "slideshow": {
     "slide_type": "slide"
    }
   },
   "source": [
    "Putting the Ingredients Together\n",
    "-----------\n",
    "\n",
    "| act | rain | no rain |\n",
    "| ----- | ----- | ----- |\n",
    "| take clothes | dry and heavy | dry and heavy |\n",
    "| leave clothes | wet and light | dry and light |"
   ]
  },
  {
   "cell_type": "markdown",
   "metadata": {
    "slideshow": {
     "slide_type": "fragment"
    }
   },
   "source": [
    "My preferences on the outcomes:\n",
    "$$ DL \\succ DH \\succ WL$$\n",
    "We can capture this with one final ingredient: a _utility_ function\n",
    "$$u: S \\times A \\to \\mathbb{R}$$\n",
    "For today, however, all that matters is the _order_ of the outcomes, not their actual values.  (Terminology: "
   ]
  },
  {
   "cell_type": "markdown",
   "metadata": {
    "slideshow": {
     "slide_type": "fragment"
    }
   },
   "source": [
    "| act | rain | no rain |\n",
    "| ----- | ----- | ----- |\n",
    "| take clothes | 1 | 1 |\n",
    "| leave clothes | 0 | 2 |"
   ]
  },
  {
   "cell_type": "code",
   "execution_count": null,
   "metadata": {
    "slideshow": {
     "slide_type": "slide"
    }
   },
   "outputs": [],
   "source": []
  }
 ],
 "metadata": {
  "celltoolbar": "Slideshow",
  "kernelspec": {
   "display_name": "Python 3",
   "language": "python",
   "name": "python3"
  },
  "language_info": {
   "codemirror_mode": {
    "name": "ipython",
    "version": 3
   },
   "file_extension": ".py",
   "mimetype": "text/x-python",
   "name": "python",
   "nbconvert_exporter": "python",
   "pygments_lexer": "ipython3",
   "version": "3.7.1"
  }
 },
 "nbformat": 4,
 "nbformat_minor": 2
}
